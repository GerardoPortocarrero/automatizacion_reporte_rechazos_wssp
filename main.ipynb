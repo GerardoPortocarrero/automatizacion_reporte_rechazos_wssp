{
 "cells": [
  {
   "cell_type": "code",
   "execution_count": 12,
   "id": "dd25b3e8",
   "metadata": {},
   "outputs": [],
   "source": [
    "import pandas as pd\n",
    "import numpy as np\n",
    "import matplotlib.pyplot as plt\n",
    "import matplotlib.dates as mdates\n",
    "import random\n",
    "from datetime import datetime\n",
    "from pathlib import Path\n",
    "import importlib\n",
    "import time\n",
    "import os\n",
    "import warnings\n",
    "warnings.filterwarnings(\"ignore\")  # Oculta todos los warnings\n",
    "\n",
    "# Mis modulos\n",
    "import ruta_panel\n",
    "import files_management as fm\n",
    "import send_reports_through_wssp as srtw\n",
    "import print_management as pm"
   ]
  },
  {
   "cell_type": "markdown",
   "id": "13dc2b90",
   "metadata": {},
   "source": [
    "### Banner"
   ]
  },
  {
   "cell_type": "code",
   "execution_count": 2,
   "id": "1eb4c858",
   "metadata": {},
   "outputs": [
    {
     "name": "stdout",
     "output_type": "stream",
     "text": [
      "\n",
      " ____           _                         __        ______ ____  ____\n",
      "|  _ \\ ___  ___| |__   __ _ _______  ___  \\ \\      / / ___/ ___||  _ \\\n",
      "| |_) / _ \\/ __| '_ \\ / _` |_  / _ \\/ __|  \\ \\ /\\ / /\\___ \\___ \\| |_) |\n",
      "|  _ <  __/ (__| | | | (_| |/ / (_) \\__ \\   \\ V  V /  ___) |__) |  __/\n",
      "|_| \\_\\___|\\___|_| |_|\\__,_/___\\___/|___/    \\_/\\_/  |____/____/|_|\n",
      "\n",
      "          💥 AUTOMATIZADOR DE ENVIO DE REPORTES POR WSSP 💥\n",
      "\n",
      "\n"
     ]
    }
   ],
   "source": [
    "# import pyfiglet\n",
    "# print(pyfiglet.figlet_format(\"Rechazos WSSP\"))\n",
    "\n",
    "banner = r\"\"\"\n",
    " ____           _                         __        ______ ____  ____\n",
    "|  _ \\ ___  ___| |__   __ _ _______  ___  \\ \\      / / ___/ ___||  _ \\\n",
    "| |_) / _ \\/ __| '_ \\ / _` |_  / _ \\/ __|  \\ \\ /\\ / /\\___ \\___ \\| |_) |\n",
    "|  _ <  __/ (__| | | | (_| |/ / (_) \\__ \\   \\ V  V /  ___) |__) |  __/\n",
    "|_| \\_\\___|\\___|_| |_|\\__,_/___\\___/|___/    \\_/\\_/  |____/____/|_|\n",
    "\n",
    "          💥 AUTOMATIZADOR DE ENVIO DE REPORTES POR WSSP 💥\n",
    "\"\"\"\n",
    "\n",
    "print(banner, end='\\n\\n')\n",
    "time.sleep(1)"
   ]
  },
  {
   "cell_type": "markdown",
   "id": "c10321e1",
   "metadata": {},
   "source": [
    "### Configuracion"
   ]
  },
  {
   "cell_type": "code",
   "execution_count": null,
   "id": "53dbe71e",
   "metadata": {},
   "outputs": [],
   "source": [
    "# Diccionarios\n",
    "parse_locaciones = {\n",
    "    '06 AYA EL PEDREGAL': 'Pedregal',\n",
    "    '38 AYA ATICO': 'Atico',\n",
    "    '40 AYA CHALA': 'Chala',\n",
    "    '88 AYA CAMANA': 'Camana'\n",
    "}\n",
    "months = {\n",
    "    1: 'Enero', 2: 'Febrero', 3: 'Marzo', 4: 'Abril', 5: 'Mayo', 6: 'Junio',\n",
    "    7: 'Julio', 8: 'Agosto', 9: 'Septiembre', 10: 'Octubre', \n",
    "    11: 'Noviembre', 12: 'Diciembre'\n",
    "}\n",
    "ruta = {\n",
    "    \"name\": \"ruta\",\n",
    "    \"file_name\": \"Cf_rech_por_ruta.csv\",                    # Nombre del archivo local\n",
    "    \"date\": \"Día\",\n",
    "    \"transportista\": \"Código Transportista\",\n",
    "    \"relevant_columns\": [\n",
    "        'Locación',\n",
    "        'Ruta Troncal Dinámico',\n",
    "        'Motivo de anulación',\n",
    "        'Día',\n",
    "        'Venta Perdida CF',\n",
    "        'Cliente',\n",
    "        'Transportista',\n",
    "        'Nombre Vendedor',\n",
    "        'Número de orden de carga',\n",
    "        'Código Transportista'\n",
    "    ],\n",
    "    \"group_by\": [ # sobre 'Venta Perdida CF'\n",
    "        'Motivo de anulación',\n",
    "        'Transportista',\n",
    "        'Ruta Troncal Dinámico',\n",
    "        'Cliente',\n",
    "    ]\n",
    "}\n",
    "\n",
    "# Listas\n",
    "locaciones = ['06 AYA EL PEDREGAL', '38 AYA ATICO', '40 AYA CHALA', '88 AYA CAMANA']\n",
    "\n",
    "# Constantes\n",
    "root_address = r'C:\\Informacion\\rechazos'\n",
    "project_address = os.path.dirname(os.path.abspath(__file__))\n",
    "#project_address = os.getcwd()"
   ]
  },
  {
   "cell_type": "markdown",
   "id": "074e1603",
   "metadata": {},
   "source": [
    "### Seleccionar documento a procesar"
   ]
  },
  {
   "cell_type": "code",
   "execution_count": 22,
   "id": "aeffbb42",
   "metadata": {},
   "outputs": [],
   "source": [
    "importlib.reload(fm)\n",
    "importlib.reload(ruta_panel)\n",
    "\n",
    "# Procesamiento de archivo\n",
    "df = fm.file_processing(\n",
    "    ruta,\n",
    "    locaciones,\n",
    "    root_address\n",
    ")\n",
    "# Parseo de fecha\n",
    "df = ruta_panel.parse_date(\n",
    "    ruta, \n",
    "    df, \n",
    ")"
   ]
  },
  {
   "cell_type": "markdown",
   "id": "4ca063e1",
   "metadata": {},
   "source": [
    "### Procesamiento de documentos"
   ]
  },
  {
   "cell_type": "markdown",
   "id": "8b77f8ea",
   "metadata": {},
   "source": [
    "Filtrado por tiempo"
   ]
  },
  {
   "cell_type": "code",
   "execution_count": 18,
   "id": "243ffc3d",
   "metadata": {},
   "outputs": [
    {
     "name": "stdout",
     "output_type": "stream",
     "text": [
      "\n",
      "Selecciona filtro de tiempo:\n",
      "  [1] Año\n",
      "  [2] Mes\n",
      "  [3] Día\n",
      "  [4] Intervalo\n",
      "  [5] SALIR\n",
      "\n"
     ]
    }
   ],
   "source": [
    "importlib.reload(fm)\n",
    "\n",
    "''' ESCOGER QUE TIPO DE ANALISIS HACER\n",
    "(1) Por Año (Escoger el año especifico) (Analisis de todo ese año)\n",
    "(2) Por Mes (Escoger el mes especifico) (Analisis de todo ese mes)\n",
    "(3) Por Día (Escoger el día especifico) (Analisis de todo ese día)\n",
    "(4) Intervalo (Escoger fecha de inicio y fecha de fin especificas) (Analisis de todo el intervalo considerando las fechas ingresadas)\n",
    "(5) Mayor igual que (Escoger fecha de inicio) (Analisis considerando esa fecha hasta el ultimo registro existente)\n",
    "'''\n",
    "\n",
    "# Seleccionar la opcion_tiempo de análisis por tiempo\n",
    "print(\"\\nSelecciona filtro de tiempo:\")\n",
    "print(\"  [1] Año\")\n",
    "print(\"  [2] Mes\")\n",
    "print(\"  [3] Día\")\n",
    "print(\"  [4] Intervalo\")\n",
    "print(\"  [5] SALIR\\n\")\n",
    "\n",
    "time_option = int(input(\">> Opción (1 - 5): \"))\n",
    "\n",
    "df, date = fm.get_specific_date(\n",
    "    df,\n",
    "    ruta,\n",
    "    time_option\n",
    ")"
   ]
  },
  {
   "cell_type": "markdown",
   "id": "0ff0e9ce",
   "metadata": {},
   "source": [
    "Filtrado por locacion"
   ]
  },
  {
   "cell_type": "code",
   "execution_count": 9,
   "id": "7378b5a5",
   "metadata": {},
   "outputs": [
    {
     "name": "stdout",
     "output_type": "stream",
     "text": [
      "\n",
      "Selecciona filtro de locacion:\n",
      "  [1] Todas\n",
      "  [2] 06 AYA EL PEDREGAL\n",
      "  [3] 38 AYA ATICO\n",
      "  [4] 40 AYA CHALA\n",
      "  [5] 88 AYA CAMANA\n",
      "\n"
     ]
    },
    {
     "data": {
      "text/html": [
       "<pre style=\"white-space:pre;overflow-x:auto;line-height:normal;font-family:Menlo,'DejaVu Sans Mono',consolas,'Courier New',monospace\">╭──────────────────────── 📊 Resumen de DataFrame ─────────────────────────╮\n",
       "│ ┌──────────────────────────┬────────────┬─────────────┬────────────────┐ │\n",
       "│ │<span style=\"color: #c0c0c0; text-decoration-color: #c0c0c0; background-color: #870000; font-weight: bold\"> 🧱 Columna               </span>│<span style=\"color: #c0c0c0; text-decoration-color: #c0c0c0; background-color: #870000; font-weight: bold\"> 📂 Tipo    </span>│<span style=\"color: #c0c0c0; text-decoration-color: #c0c0c0; background-color: #870000; font-weight: bold\"> ✅ Non-Null </span>│<span style=\"color: #c0c0c0; text-decoration-color: #c0c0c0; background-color: #870000; font-weight: bold\"> 📈 Completitud </span>│ │\n",
       "│ ├──────────────────────────┼────────────┼─────────────┼────────────────┤ │\n",
       "│ │<span style=\"color: #008080; text-decoration-color: #008080; font-weight: bold\"> Locación                 </span>│<span style=\"color: #800080; text-decoration-color: #800080; font-weight: bold\"> object     </span>│<span style=\"color: #008000; text-decoration-color: #008000\">         241 </span>│<span style=\"color: #808000; text-decoration-color: #808000\">         100.0% </span>│ │\n",
       "│ │<span style=\"color: #008080; text-decoration-color: #008080; font-weight: bold\"> Ruta Troncal Dinámico    </span>│<span style=\"color: #800080; text-decoration-color: #800080; font-weight: bold\"> object     </span>│<span style=\"color: #008000; text-decoration-color: #008000\">         241 </span>│<span style=\"color: #808000; text-decoration-color: #808000\">         100.0% </span>│ │\n",
       "│ │<span style=\"color: #008080; text-decoration-color: #008080; font-weight: bold\"> Motivo de anulación      </span>│<span style=\"color: #800080; text-decoration-color: #800080; font-weight: bold\"> object     </span>│<span style=\"color: #008000; text-decoration-color: #008000\">         241 </span>│<span style=\"color: #808000; text-decoration-color: #808000\">         100.0% </span>│ │\n",
       "│ │<span style=\"color: #008080; text-decoration-color: #008080; font-weight: bold\"> Día                      </span>│<span style=\"color: #800080; text-decoration-color: #800080; font-weight: bold\"> datetime64 </span>│<span style=\"color: #008000; text-decoration-color: #008000\">         241 </span>│<span style=\"color: #808000; text-decoration-color: #808000\">         100.0% </span>│ │\n",
       "│ │<span style=\"color: #008080; text-decoration-color: #008080; font-weight: bold\"> Venta Perdida CF         </span>│<span style=\"color: #800080; text-decoration-color: #800080; font-weight: bold\"> float64    </span>│<span style=\"color: #008000; text-decoration-color: #008000\">         241 </span>│<span style=\"color: #808000; text-decoration-color: #808000\">         100.0% </span>│ │\n",
       "│ │<span style=\"color: #008080; text-decoration-color: #008080; font-weight: bold\"> Cliente                  </span>│<span style=\"color: #800080; text-decoration-color: #800080; font-weight: bold\"> object     </span>│<span style=\"color: #008000; text-decoration-color: #008000\">         241 </span>│<span style=\"color: #808000; text-decoration-color: #808000\">         100.0% </span>│ │\n",
       "│ │<span style=\"color: #008080; text-decoration-color: #008080; font-weight: bold\"> Transportista            </span>│<span style=\"color: #800080; text-decoration-color: #800080; font-weight: bold\"> object     </span>│<span style=\"color: #008000; text-decoration-color: #008000\">         241 </span>│<span style=\"color: #808000; text-decoration-color: #808000\">         100.0% </span>│ │\n",
       "│ │<span style=\"color: #008080; text-decoration-color: #008080; font-weight: bold\"> Nombre Vendedor          </span>│<span style=\"color: #800080; text-decoration-color: #800080; font-weight: bold\"> object     </span>│<span style=\"color: #008000; text-decoration-color: #008000\">         241 </span>│<span style=\"color: #808000; text-decoration-color: #808000\">         100.0% </span>│ │\n",
       "│ │<span style=\"color: #008080; text-decoration-color: #008080; font-weight: bold\"> Número de orden de carga </span>│<span style=\"color: #800080; text-decoration-color: #800080; font-weight: bold\"> float64    </span>│<span style=\"color: #008000; text-decoration-color: #008000\">         241 </span>│<span style=\"color: #808000; text-decoration-color: #808000\">         100.0% </span>│ │\n",
       "│ │<span style=\"color: #008080; text-decoration-color: #008080; font-weight: bold\"> Código Transportista     </span>│<span style=\"color: #800080; text-decoration-color: #800080; font-weight: bold\"> float64    </span>│<span style=\"color: #008000; text-decoration-color: #008000\">         241 </span>│<span style=\"color: #808000; text-decoration-color: #808000\">         100.0% </span>│ │\n",
       "│ └──────────────────────────┴────────────┴─────────────┴────────────────┘ │\n",
       "╰──────────────────────────────────────────────────────────────────────────╯\n",
       "</pre>\n"
      ],
      "text/plain": [
       "╭──────────────────────── 📊 Resumen de DataFrame ─────────────────────────╮\n",
       "│ ┌──────────────────────────┬────────────┬─────────────┬────────────────┐ │\n",
       "│ │\u001b[1;37;48;5;88m \u001b[0m\u001b[1;37;48;5;88m🧱 Columna              \u001b[0m\u001b[1;37;48;5;88m \u001b[0m│\u001b[1;37;48;5;88m \u001b[0m\u001b[1;37;48;5;88m📂 Tipo   \u001b[0m\u001b[1;37;48;5;88m \u001b[0m│\u001b[1;37;48;5;88m \u001b[0m\u001b[1;37;48;5;88m✅ Non-Null\u001b[0m\u001b[1;37;48;5;88m \u001b[0m│\u001b[1;37;48;5;88m \u001b[0m\u001b[1;37;48;5;88m📈 Completitud\u001b[0m\u001b[1;37;48;5;88m \u001b[0m│ │\n",
       "│ ├──────────────────────────┼────────────┼─────────────┼────────────────┤ │\n",
       "│ │\u001b[1;36m \u001b[0m\u001b[1;36mLocación                \u001b[0m\u001b[1;36m \u001b[0m│\u001b[1;35m \u001b[0m\u001b[1;35mobject    \u001b[0m\u001b[1;35m \u001b[0m│\u001b[32m \u001b[0m\u001b[32m        241\u001b[0m\u001b[32m \u001b[0m│\u001b[33m \u001b[0m\u001b[33m        100.0%\u001b[0m\u001b[33m \u001b[0m│ │\n",
       "│ │\u001b[1;36m \u001b[0m\u001b[1;36mRuta Troncal Dinámico   \u001b[0m\u001b[1;36m \u001b[0m│\u001b[1;35m \u001b[0m\u001b[1;35mobject    \u001b[0m\u001b[1;35m \u001b[0m│\u001b[32m \u001b[0m\u001b[32m        241\u001b[0m\u001b[32m \u001b[0m│\u001b[33m \u001b[0m\u001b[33m        100.0%\u001b[0m\u001b[33m \u001b[0m│ │\n",
       "│ │\u001b[1;36m \u001b[0m\u001b[1;36mMotivo de anulación     \u001b[0m\u001b[1;36m \u001b[0m│\u001b[1;35m \u001b[0m\u001b[1;35mobject    \u001b[0m\u001b[1;35m \u001b[0m│\u001b[32m \u001b[0m\u001b[32m        241\u001b[0m\u001b[32m \u001b[0m│\u001b[33m \u001b[0m\u001b[33m        100.0%\u001b[0m\u001b[33m \u001b[0m│ │\n",
       "│ │\u001b[1;36m \u001b[0m\u001b[1;36mDía                     \u001b[0m\u001b[1;36m \u001b[0m│\u001b[1;35m \u001b[0m\u001b[1;35mdatetime64\u001b[0m\u001b[1;35m \u001b[0m│\u001b[32m \u001b[0m\u001b[32m        241\u001b[0m\u001b[32m \u001b[0m│\u001b[33m \u001b[0m\u001b[33m        100.0%\u001b[0m\u001b[33m \u001b[0m│ │\n",
       "│ │\u001b[1;36m \u001b[0m\u001b[1;36mVenta Perdida CF        \u001b[0m\u001b[1;36m \u001b[0m│\u001b[1;35m \u001b[0m\u001b[1;35mfloat64   \u001b[0m\u001b[1;35m \u001b[0m│\u001b[32m \u001b[0m\u001b[32m        241\u001b[0m\u001b[32m \u001b[0m│\u001b[33m \u001b[0m\u001b[33m        100.0%\u001b[0m\u001b[33m \u001b[0m│ │\n",
       "│ │\u001b[1;36m \u001b[0m\u001b[1;36mCliente                 \u001b[0m\u001b[1;36m \u001b[0m│\u001b[1;35m \u001b[0m\u001b[1;35mobject    \u001b[0m\u001b[1;35m \u001b[0m│\u001b[32m \u001b[0m\u001b[32m        241\u001b[0m\u001b[32m \u001b[0m│\u001b[33m \u001b[0m\u001b[33m        100.0%\u001b[0m\u001b[33m \u001b[0m│ │\n",
       "│ │\u001b[1;36m \u001b[0m\u001b[1;36mTransportista           \u001b[0m\u001b[1;36m \u001b[0m│\u001b[1;35m \u001b[0m\u001b[1;35mobject    \u001b[0m\u001b[1;35m \u001b[0m│\u001b[32m \u001b[0m\u001b[32m        241\u001b[0m\u001b[32m \u001b[0m│\u001b[33m \u001b[0m\u001b[33m        100.0%\u001b[0m\u001b[33m \u001b[0m│ │\n",
       "│ │\u001b[1;36m \u001b[0m\u001b[1;36mNombre Vendedor         \u001b[0m\u001b[1;36m \u001b[0m│\u001b[1;35m \u001b[0m\u001b[1;35mobject    \u001b[0m\u001b[1;35m \u001b[0m│\u001b[32m \u001b[0m\u001b[32m        241\u001b[0m\u001b[32m \u001b[0m│\u001b[33m \u001b[0m\u001b[33m        100.0%\u001b[0m\u001b[33m \u001b[0m│ │\n",
       "│ │\u001b[1;36m \u001b[0m\u001b[1;36mNúmero de orden de carga\u001b[0m\u001b[1;36m \u001b[0m│\u001b[1;35m \u001b[0m\u001b[1;35mfloat64   \u001b[0m\u001b[1;35m \u001b[0m│\u001b[32m \u001b[0m\u001b[32m        241\u001b[0m\u001b[32m \u001b[0m│\u001b[33m \u001b[0m\u001b[33m        100.0%\u001b[0m\u001b[33m \u001b[0m│ │\n",
       "│ │\u001b[1;36m \u001b[0m\u001b[1;36mCódigo Transportista    \u001b[0m\u001b[1;36m \u001b[0m│\u001b[1;35m \u001b[0m\u001b[1;35mfloat64   \u001b[0m\u001b[1;35m \u001b[0m│\u001b[32m \u001b[0m\u001b[32m        241\u001b[0m\u001b[32m \u001b[0m│\u001b[33m \u001b[0m\u001b[33m        100.0%\u001b[0m\u001b[33m \u001b[0m│ │\n",
       "│ └──────────────────────────┴────────────┴─────────────┴────────────────┘ │\n",
       "╰──────────────────────────────────────────────────────────────────────────╯\n"
      ]
     },
     "metadata": {},
     "output_type": "display_data"
    },
    {
     "data": {
      "text/html": [
       "<pre style=\"white-space:pre;overflow-x:auto;line-height:normal;font-family:Menlo,'DejaVu Sans Mono',consolas,'Courier New',monospace\"><span style=\"color: #808080; text-decoration-color: #808080\">╭───────────── 📎 Resumen ──────────────╮</span>\n",
       "<span style=\"color: #808080; text-decoration-color: #808080\">│</span> <span style=\"color: #808000; text-decoration-color: #808000; font-weight: bold\">🔢 Dimensión:</span> 241 filas × 10 columnas <span style=\"color: #808080; text-decoration-color: #808080\">│</span>\n",
       "<span style=\"color: #808080; text-decoration-color: #808080\">│</span> <span style=\"color: #008000; text-decoration-color: #008000; font-weight: bold\">💾 Memoria usada:</span> 103.93 KB           <span style=\"color: #808080; text-decoration-color: #808080\">│</span>\n",
       "<span style=\"color: #808080; text-decoration-color: #808080\">╰───────────────────────────────────────╯</span>\n",
       "</pre>\n"
      ],
      "text/plain": [
       "\u001b[38;5;244m╭─\u001b[0m\u001b[38;5;244m────────────\u001b[0m\u001b[38;5;244m 📎 Resumen \u001b[0m\u001b[38;5;244m─────────────\u001b[0m\u001b[38;5;244m─╮\u001b[0m\n",
       "\u001b[38;5;244m│\u001b[0m \u001b[1;33m🔢 Dimensión:\u001b[0m 241 filas × 10 columnas \u001b[38;5;244m│\u001b[0m\n",
       "\u001b[38;5;244m│\u001b[0m \u001b[1;32m💾 Memoria usada:\u001b[0m 103.93 KB           \u001b[38;5;244m│\u001b[0m\n",
       "\u001b[38;5;244m╰───────────────────────────────────────╯\u001b[0m\n"
      ]
     },
     "metadata": {},
     "output_type": "display_data"
    }
   ],
   "source": [
    "importlib.reload(fm)\n",
    "importlib.reload(pm)\n",
    "\n",
    "# Seleccionar locaciones\n",
    "print(\"\\nSelecciona filtro de locacion:\")\n",
    "print(f\"  [1] Todas\")\n",
    "print(f\"  [2] {locaciones[0]}\")\n",
    "print(f\"  [3] {locaciones[1]}\")\n",
    "print(f\"  [4] {locaciones[2]}\")\n",
    "print(f\"  [5] {locaciones[3]}\\n\")\n",
    "\n",
    "location_option = int(input(\"\\n>> Opción (1 - 5): \"))\n",
    "\n",
    "df = fm.get_specific_location(df, location_option, locaciones)\n",
    "\n",
    "pm.show_df(df)"
   ]
  },
  {
   "cell_type": "markdown",
   "id": "493961e0",
   "metadata": {},
   "source": [
    "### Reportes Ruta o Transportista"
   ]
  },
  {
   "cell_type": "code",
   "execution_count": 24,
   "id": "678982c7",
   "metadata": {},
   "outputs": [
    {
     "name": "stdout",
     "output_type": "stream",
     "text": [
      "Cantidad de datos: 11\n",
      "❌ Error en la generación del gráfico: 'Cliente'\n",
      "╒══════════════════╤══════════════════════════════════════════════════════════════════════════════════════════════════════════════════════════════════════════════════════════════════════╕\n",
      "│ Campo            │ Valor                                                                                                                                                                │\n",
      "╞══════════════════╪══════════════════════════════════════════════════════════════════════════════════════════════════════════════════════════════════════════════════════════════════════╡\n",
      "│ name             │ ruta                                                                                                                                                                 │\n",
      "├──────────────────┼──────────────────────────────────────────────────────────────────────────────────────────────────────────────────────────────────────────────────────────────────────┤\n",
      "│ file_name        │ Cf_rech_por_ruta.csv                                                                                                                                                 │\n",
      "├──────────────────┼──────────────────────────────────────────────────────────────────────────────────────────────────────────────────────────────────────────────────────────────────────┤\n",
      "│ date             │ Día                                                                                                                                                                  │\n",
      "├──────────────────┼──────────────────────────────────────────────────────────────────────────────────────────────────────────────────────────────────────────────────────────────────────┤\n",
      "│ transportista    │ Código Transportista                                                                                                                                                 │\n",
      "├──────────────────┼──────────────────────────────────────────────────────────────────────────────────────────────────────────────────────────────────────────────────────────────────────┤\n",
      "│ relevant_columns │ Locación, Ruta Troncal Dinámico, Motivo de anulación, Día, Venta Perdida CF, Cliente, Transportista, Nombre Vendedor, Número de orden de carga, Código Transportista │\n",
      "├──────────────────┼──────────────────────────────────────────────────────────────────────────────────────────────────────────────────────────────────────────────────────────────────────┤\n",
      "│ group_by         │ Motivo de anulación, Transportista, Ruta Troncal Dinámico, Cliente                                                                                                   │\n",
      "╘══════════════════╧══════════════════════════════════════════════════════════════════════════════════════════════════════════════════════════════════════════════════════════════════════╛\n"
     ]
    }
   ],
   "source": [
    "importlib.reload(ruta_panel)\n",
    "\n",
    "ruta_panel.main(\n",
    "    project_address,\n",
    "    df,\n",
    "    ruta,\n",
    "    date\n",
    ")\n",
    "pm.show_document(ruta)"
   ]
  },
  {
   "cell_type": "markdown",
   "id": "7077665d",
   "metadata": {},
   "source": [
    "### Envio de Reporte"
   ]
  },
  {
   "cell_type": "code",
   "execution_count": null,
   "id": "232afe93",
   "metadata": {},
   "outputs": [],
   "source": [
    "importlib.reload(srtw)\n",
    "\n",
    "# Envio de reportes a grupo de wssp\n",
    "def send_reports(group_option):\n",
    "    WSSP_CONFIF = {\n",
    "        'page_url': 'https://web.whatsapp.com',\n",
    "        'group_names': ['PEDREGAL - DISTRIBUCIÓN'] if group_option == 1 else ['GrupoPrueba - ón'],\n",
    "    }\n",
    "\n",
    "    srtw.main(project_address, WSSP_CONFIF)\n",
    "\n",
    "# 🔁 Bucle de confirmación\n",
    "while True:\n",
    "    # Seleccionar grupo de wssp\n",
    "    print(\"\\nSelecciona grupo de wssp:\")\n",
    "    print(\"  [1] Grupo Oficial\")\n",
    "    print(\"  [2] Grupo de Prueba\")\n",
    "    print(\"  [3] Terminar proceso\")\n",
    "\n",
    "    group_option = int(input(\"\\n>> Opción (1 - 3): \"))\n",
    "\n",
    "    if group_option == 3 or group_option > 2:\n",
    "        print(\"\\n[✓] Proceso finalizado.\\n\")\n",
    "        break  # salir del bucle\n",
    "    else:        \n",
    "        send_reports(group_option)"
   ]
  },
  {
   "cell_type": "markdown",
   "id": "573376a0",
   "metadata": {},
   "source": [
    "### Limpiar carpeta"
   ]
  },
  {
   "cell_type": "code",
   "execution_count": null,
   "id": "bd738142",
   "metadata": {},
   "outputs": [
    {
     "name": "stdout",
     "output_type": "stream",
     "text": [
      "[WindowsPath('c:/Informacion/rechazos/Analisis/automatizacion_reporte_rechazos_wssp/barh_Motivo de anulación_Venta Perdida CF.png'), WindowsPath('c:/Informacion/rechazos/Analisis/automatizacion_reporte_rechazos_wssp/barh_Ruta Troncal Dinámico_Venta Perdida CF.png'), WindowsPath('c:/Informacion/rechazos/Analisis/automatizacion_reporte_rechazos_wssp/barh_Transportista_Venta Perdida CF.png')]\n",
      "Eliminado: c:\\Informacion\\rechazos\\Analisis\\automatizacion_reporte_rechazos_wssp\\barh_Motivo de anulación_Venta Perdida CF.png\n",
      "Eliminado: c:\\Informacion\\rechazos\\Analisis\\automatizacion_reporte_rechazos_wssp\\barh_Ruta Troncal Dinámico_Venta Perdida CF.png\n",
      "Eliminado: c:\\Informacion\\rechazos\\Analisis\\automatizacion_reporte_rechazos_wssp\\barh_Transportista_Venta Perdida CF.png\n"
     ]
    }
   ],
   "source": [
    "carpeta = Path(project_address)\n",
    "#print(list(carpeta.glob('*.png')))\n",
    "\n",
    "# Eliminar archivos .png\n",
    "for imagen in carpeta.glob('*.png'):\n",
    "    imagen.unlink()  # .unlink() elimina el archivo\n",
    "    print(f'Eliminando: {imagen}')"
   ]
  },
  {
   "cell_type": "markdown",
   "id": "9d275f1d",
   "metadata": {},
   "source": [
    "### Export it as .py"
   ]
  },
  {
   "cell_type": "code",
   "execution_count": 1,
   "id": "a1ba73ab",
   "metadata": {},
   "outputs": [
    {
     "name": "stdout",
     "output_type": "stream",
     "text": [
      "✅ Archivo .py creado sin la última celda.\n"
     ]
    }
   ],
   "source": [
    "import nbformat\n",
    "from nbconvert import PythonExporter\n",
    "\n",
    "# Cargar el notebook\n",
    "notebook_path = \"main.ipynb\"\n",
    "with open(notebook_path, \"r\", encoding=\"utf-8\") as f:\n",
    "    nb = nbformat.read(f, as_version=4)\n",
    "\n",
    "# Eliminar la última celda\n",
    "nb['cells'] = nb['cells'][:-1]\n",
    "\n",
    "# Convertir a script .py\n",
    "exporter = PythonExporter()\n",
    "codigo_python, _ = exporter.from_notebook_node(nb)\n",
    "\n",
    "# Guardar el archivo .py\n",
    "with open(\"main.py\", \"w\", encoding=\"utf-8\") as f:\n",
    "    f.write(codigo_python)\n",
    "\n",
    "print(\"✅ Archivo .py creado sin la última celda.\")"
   ]
  }
 ],
 "metadata": {
  "kernelspec": {
   "display_name": "Python 3",
   "language": "python",
   "name": "python3"
  },
  "language_info": {
   "codemirror_mode": {
    "name": "ipython",
    "version": 3
   },
   "file_extension": ".py",
   "mimetype": "text/x-python",
   "name": "python",
   "nbconvert_exporter": "python",
   "pygments_lexer": "ipython3",
   "version": "3.13.3"
  }
 },
 "nbformat": 4,
 "nbformat_minor": 5
}
